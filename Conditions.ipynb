{
  "nbformat": 4,
  "nbformat_minor": 0,
  "metadata": {
    "colab": {
      "name": "Conditions.ipynb",
      "provenance": [],
      "authorship_tag": "ABX9TyMLGqt+CIZ2pLfucUw2FYR9",
      "include_colab_link": true
    },
    "kernelspec": {
      "name": "python3",
      "display_name": "Python 3"
    },
    "language_info": {
      "name": "python"
    }
  },
  "cells": [
    {
      "cell_type": "markdown",
      "metadata": {
        "id": "view-in-github",
        "colab_type": "text"
      },
      "source": [
        "<a href=\"https://colab.research.google.com/github/salman98er/Python_Projects/blob/main/Conditions.ipynb\" target=\"_parent\"><img src=\"https://colab.research.google.com/assets/colab-badge.svg\" alt=\"Open In Colab\"/></a>"
      ]
    },
    {
      "cell_type": "markdown",
      "source": [
        "#Conditions\n"
      ],
      "metadata": {
        "id": "3icjVYKrptD0"
      }
    },
    {
      "cell_type": "code",
      "source": [
        "print('Do you like apples?')\n",
        "q = input('Do you like apples')\n",
        "if q == 'yes':\n",
        "    print(\"purchase 2 kgs of apples\")\n",
        "if q == 'no':# colons tells that if has a statment next to if \n",
        "    print('you dont purchase apples')"
      ],
      "metadata": {
        "colab": {
          "base_uri": "https://localhost:8080/"
        },
        "id": "jbOjKdUypyNq",
        "outputId": "bf9f135e-5f09-4d0a-87ec-d6b8fb59f52d"
      },
      "execution_count": 2,
      "outputs": [
        {
          "output_type": "stream",
          "name": "stdout",
          "text": [
            "Do you like apples?\n",
            "Do you like applesno\n",
            "you dont purchase apples\n"
          ]
        }
      ]
    },
    {
      "cell_type": "code",
      "source": [
        "a = int(input(\"enter a number\"))\n",
        "if a > 5:  # 0 and! are false\n",
        "     print('a is greater than 5')\n",
        "     print('this is the info we needed')\n",
        "     print('with this poer,comes great responsibility')\n",
        "print('the end')"
      ],
      "metadata": {
        "colab": {
          "base_uri": "https://localhost:8080/"
        },
        "id": "oP6S-3E6s1pq",
        "outputId": "dec12ad3-4dcc-4873-dec8-c5179ade268d"
      },
      "execution_count": 7,
      "outputs": [
        {
          "output_type": "stream",
          "name": "stdout",
          "text": [
            "enter a number2\n",
            "the end\n"
          ]
        }
      ]
    },
    {
      "cell_type": "code",
      "source": [
        "temp = float(input(\"what is the temprature\"))\n",
        "if temp > 70:\n",
        "  print('wear shorts')\n",
        "else:\n",
        "   print('wear long pants')\n",
        "print(\"get some excercise\") # this line is not associated with any conditions"
      ],
      "metadata": {
        "colab": {
          "base_uri": "https://localhost:8080/"
        },
        "id": "sNGwLxVOu3f9",
        "outputId": "d0e551d7-b5e8-40e5-89d2-4a9b9e6225f4"
      },
      "execution_count": 9,
      "outputs": [
        {
          "output_type": "stream",
          "name": "stdout",
          "text": [
            "what is the temprature100\n",
            "wear shorts\n",
            "get some excercise\n"
          ]
        }
      ]
    },
    {
      "cell_type": "code",
      "source": [
        "score = int(input(\"your score ->\"))\n",
        "if score >= 90:\n",
        "   letter = 'A'\n",
        "elif score >= 80:\n",
        "    letter >=\"B\"\n",
        "elif score >=70:\n",
        "     letter = 'C'\n",
        "elif score >= 60:\n",
        "     letter = \"D\"\n",
        "else:\n",
        "    letter = \"f\"\n",
        "print(letter)"
      ],
      "metadata": {
        "colab": {
          "base_uri": "https://localhost:8080/"
        },
        "id": "RDvzK2UiwXSa",
        "outputId": "e8a71609-44d6-4c60-c8c0-cf287d6aa79e"
      },
      "execution_count": 12,
      "outputs": [
        {
          "output_type": "stream",
          "name": "stdout",
          "text": [
            "your score ->99\n",
            "A\n"
          ]
        }
      ]
    },
    {
      "cell_type": "markdown",
      "source": [
        "# ONE LINE ALTERNATIVES"
      ],
      "metadata": {
        "id": "JYWFEmLBywD2"
      }
    },
    {
      "cell_type": "code",
      "source": [
        "if 42 in range(100): print('42')"
      ],
      "metadata": {
        "colab": {
          "base_uri": "https://localhost:8080/"
        },
        "id": "7HiTUr8LyQOB",
        "outputId": "273b87ef-d3ab-42ab-fc50-98c765cd56aa"
      },
      "execution_count": 13,
      "outputs": [
        {
          "output_type": "stream",
          "name": "stdout",
          "text": [
            "42\n"
          ]
        }
      ]
    },
    {
      "cell_type": "markdown",
      "source": [
        ""
      ],
      "metadata": {
        "id": "u4rMtHcd0lIl"
      }
    },
    {
      "cell_type": "code",
      "source": [
        "x = 'Alice'if 'Jon'in 'My name is Jonas' else 'Bob'\n",
        "print(x)"
      ],
      "metadata": {
        "colab": {
          "base_uri": "https://localhost:8080/"
        },
        "id": "eyhlU1QzyYsq",
        "outputId": "164c3dde-9922-4fcb-d1a5-e87d037caa94"
      },
      "execution_count": 14,
      "outputs": [
        {
          "output_type": "stream",
          "name": "stdout",
          "text": [
            "Alice\n"
          ]
        }
      ]
    },
    {
      "cell_type": "code",
      "source": [
        "print(\"42\") if 42 in [22,33,44] else print('21')"
      ],
      "metadata": {
        "colab": {
          "base_uri": "https://localhost:8080/"
        },
        "id": "QAITsMkXzTJy",
        "outputId": "200dde0e-d275-4978-8dc4-b75115857e9b"
      },
      "execution_count": 15,
      "outputs": [
        {
          "output_type": "stream",
          "name": "stdout",
          "text": [
            "21\n"
          ]
        }
      ]
    },
    {
      "cell_type": "code",
      "source": [
        "print('yellow') if 'y' in 'orange' else print('brown')"
      ],
      "metadata": {
        "colab": {
          "base_uri": "https://localhost:8080/"
        },
        "id": "XeMQ1SbWzqU_",
        "outputId": "fa2372f5-d224-4457-98c5-6048978869ae"
      },
      "execution_count": 17,
      "outputs": [
        {
          "output_type": "stream",
          "name": "stdout",
          "text": [
            "brown\n"
          ]
        }
      ]
    },
    {
      "cell_type": "code",
      "source": [
        ""
      ],
      "metadata": {
        "id": "EDDX_80-0OQe"
      },
      "execution_count": null,
      "outputs": []
    },
    {
      "cell_type": "markdown",
      "source": [
        "#HOMEWORK\n",
        "#wap to find the no. is odd or even\n",
        "#wap if 2 list are same or not"
      ],
      "metadata": {
        "id": "9rLj1twY0mqs"
      }
    }
  ]
}